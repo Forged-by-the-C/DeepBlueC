{
 "cells": [
  {
   "cell_type": "markdown",
   "metadata": {},
   "source": [
    "# Nepal Earthquakes\n",
    "\n",
    "## Goal: Based on aspects of building location and construction, your goal is to predict the level of damage to buildings caused by the 2015 Gorkha earthquake in Nepal.\n",
    "\n",
    "## Dependent Variable (Ordinal): damage_grade\n",
    "This can either be 1,2 or 3 with respective damage descriptions of low damage, medium amount of damage, and almost complete destruction. \n",
    "\n",
    "\n",
    "## Description of data (Many categorical, high cardinality)\n",
    "[This particular data set](https://www.drivendata.org/competitions/57/nepal-earthquake/page/136/) has a large number of categorical variables with none being indicated as ordinal in the problem description. Furthermore, the very high cardinality would indicate a potentially very sparse matrix for modeling. \n",
    "\n",
    "### Categorical Trimming\n",
    "\n",
    "#### Reverse One-Hot\n",
    "The data set had two categorical variables already broken out using a [psuedo one-hot encoding scheme](https://hackernoon.com/what-is-one-hot-encoding-why-and-when-do-you-have-to-use-it-e3c6186d008f). In order to determine the usefulness of this data we wanted to first take the data back to a categorical variable and perform analysis on frequency and potential interactions. The typical sceme for a one-hot encoding is to make a new column for each potential value in a catrogical column and then to set a binary indicator. When this is done the naming convention is \\[Previous Column Name\\] _ \\[value\\].\n",
    "\n",
    "* has\\_secondary\\_use_\\[value\\]\n",
    "    * This prefix indicates that the building had some sort of alternate use. Unique from the other, has_superstructure, this variable was accompanied by an additional column, prefix only, which served as a binary indicator of whether or not the building had any additional use.\n",
    "<br><br>\n",
    "* has\\_superstructure\\_\\[value\\]\n",
    "    * This prefix indicates the materials used in the superstructure of the building. There are many rows that have multiple materials utilized. This is an interesting problem as some materials may interact uniquely with one another. Additionally, some materials may be more suited for certain group types or building sizes. \n",
    "\n"
   ]
  },
  {
   "cell_type": "code",
   "execution_count": null,
   "metadata": {},
   "outputs": [],
   "source": []
  }
 ],
 "metadata": {
  "kernelspec": {
   "display_name": "Python 3",
   "language": "python",
   "name": "python3"
  },
  "language_info": {
   "codemirror_mode": {
    "name": "ipython",
    "version": 3
   },
   "file_extension": ".py",
   "mimetype": "text/x-python",
   "name": "python",
   "nbconvert_exporter": "python",
   "pygments_lexer": "ipython3",
   "version": "3.6.4"
  }
 },
 "nbformat": 4,
 "nbformat_minor": 2
}
