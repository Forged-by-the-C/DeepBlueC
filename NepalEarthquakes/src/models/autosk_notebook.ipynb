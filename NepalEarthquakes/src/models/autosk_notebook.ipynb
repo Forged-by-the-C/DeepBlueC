{
 "cells": [
  {
   "cell_type": "code",
   "execution_count": 1,
   "metadata": {},
   "outputs": [],
   "source": [
    "#To be run from the docker container\n",
    "import numpy as np\n",
    "import pandas as pd\n",
    "from sklearn.metrics import f1_score\n",
    "from src.utils.model_wrapper import model_wrapper\n",
    "import autosklearn.classification"
   ]
  },
  {
   "cell_type": "code",
   "execution_count": null,
   "metadata": {},
   "outputs": [],
   "source": [
    "class auto_sk(model_wrapper):\n",
    "\n",
    "    def train(self, X,y):\n",
    "        '''\n",
    "        input X: numpy.ndarray of shape (n_smaples, n_features)\n",
    "        input y: numpy.ndarray of shape (n_samples, )\n",
    "        output: trained model\n",
    "        '''\n",
    "        clf = autosklearn.classification.AutoSklearnClassifier()\n",
    "        clf.fit(X, y)\n",
    "        return clf"
   ]
  },
  {
   "cell_type": "code",
   "execution_count": null,
   "metadata": {},
   "outputs": [],
   "source": [
    "mod = auto_sk({\"auto\":\"sk\"})"
   ]
  },
  {
   "cell_type": "code",
   "execution_count": null,
   "metadata": {},
   "outputs": [],
   "source": [
    "mod.train_and_score()\n",
    "#mod.load_and_score()\n",
    "#mod.load_and_predict_submission()"
   ]
  }
 ],
 "metadata": {
  "kernelspec": {
   "display_name": "Python 3",
   "language": "python",
   "name": "python3"
  },
  "language_info": {
   "codemirror_mode": {
    "name": "ipython",
    "version": 3
   },
   "file_extension": ".py",
   "mimetype": "text/x-python",
   "name": "python",
   "nbconvert_exporter": "python",
   "pygments_lexer": "ipython3",
   "version": "3.6.7"
  }
 },
 "nbformat": 4,
 "nbformat_minor": 2
}
